{
  "cells": [
    {
      "cell_type": "markdown",
      "id": "f05f952a",
      "metadata": {},
      "source": [
        "# Building Spotify playlists based on vibes using LangChain and GPT\n",
        "\n",
        "## How to run arbitrary libraries with LangChain to integrate Spotify with GPT.\n",
        "\n",
        "Full writeup at [https://jonathansoma.com/words/custom-execution-chain.html](https://jonathansoma.com/words/custom-execution-chain.html), which includes a nice introduction to APIChain, PALChain and SequentialChain."
      ]
    },
    {
      "cell_type": "code",
      "execution_count": null,
      "id": "d215387d",
      "metadata": {},
      "outputs": [],
      "source": [
        "%pip install langchain\n",
        "%pip install spotipy\n",
        "%pip install openai\n",
        "%pip install python-dotenv"
      ]
    },
    {
      "cell_type": "code",
      "execution_count": null,
      "id": "a111f7bd",
      "metadata": {},
      "outputs": [],
      "source": [
        "%load_ext dotenv\n",
        "%dotenv"
      ]
    },
    {
      "cell_type": "code",
      "execution_count": null,
      "id": "dbed579b",
      "metadata": {},
      "outputs": [],
      "source": [
        "# LangChain\n",
        "from langchain.chains import PALChain\n",
        "from langchain.chains import LLMChain\n",
        "from langchain.chains import SequentialChain\n",
        "from langchain.chat_models import ChatOpenAI\n",
        "from langchain.prompts import PromptTemplate\n",
        "\n",
        "# Spotipy\n",
        "import spotipy\n",
        "from spotipy.oauth2 import SpotifyClientCredentials\n",
        "\n",
        "# Etc\n",
        "import os"
      ]
    },
    {
      "cell_type": "markdown",
      "id": "75a84e6b",
      "metadata": {},
      "source": [
        "# Connect to GPT"
      ]
    },
    {
      "cell_type": "code",
      "execution_count": null,
      "id": "e8f5ba4d",
      "metadata": {},
      "outputs": [],
      "source": [
        "chat = ChatOpenAI(model_name='gpt-3.5-turbo')"
      ]
    },
    {
      "cell_type": "markdown",
      "id": "7d68d884",
      "metadata": {},
      "source": [
        "# Connect to Spotify\n",
        "\n",
        "We're using [Spotipy](https://spotipy.readthedocs.io/en/2.22.1/) to do this."
      ]
    },
    {
      "cell_type": "code",
      "execution_count": null,
      "id": "32facb60",
      "metadata": {},
      "outputs": [],
      "source": [
        "spotify_auth = SpotifyClientCredentials(\n",
        "    client_id=os.environ['SPOTIPY_CLIENT_ID'],\n",
        "    client_secret=os.environ['SPOTIPY_CLIENT_SECRET']\n",
        ")\n",
        "spotify_client = spotipy.Spotify(auth_manager=spotify_auth)"
      ]
    },
    {
      "cell_type": "markdown",
      "id": "5158ec54",
      "metadata": {},
      "source": [
        "# PALChain\n",
        "\n",
        "## The prompt\n",
        "\n",
        "We'll show GPT some examples of how to use Spotipy to access information from Spotify. **Note that his prompt is far from perfect!**"
      ]
    },
    {
      "cell_type": "code",
      "execution_count": null,
      "id": "97addd2b",
      "metadata": {},
      "outputs": [],
      "source": [
        "SPOTIPY_PROMPT_TEMPLATE = (\n",
        "    '''\n",
        "API LIMITATIONS TO NOTE\n",
        "* When requesting track information, the limit is 50 at a time\n",
        "* When requesting audio features, the limit is 100 at a time\n",
        "* When selecting multiple artists, the limit is 50 at a time\n",
        "* When asking for recommendations, the limit is 100 at a time\n",
        "=====\n",
        "\n",
        "Q: What albums has the band Green Day made?\n",
        "\n",
        "# solution in Python:\n",
        "\n",
        "\n",
        "def solution():\n",
        "    \"\"\"What albums has the band Green Day made?\"\"\"\n",
        "    search_results = spotify_client.search(q='Green Day', type='artist')\n",
        "    uri = search_results['artists']['items'][0]['uri']\n",
        "    albums = spotify_client.artist_albums(uri, album_type='album')\n",
        "    return albums\n",
        "\n",
        "\n",
        "Q: Who are some musicians similar to Fiona Apple?\n",
        "\n",
        "# solution in Python:\n",
        "\n",
        "\n",
        "def solution():\n",
        "    \"\"\"Who are some musicians similar to Fiona Apple?\"\"\"\n",
        "    search_results = spotify_client.search(q='Fiona Apple', type='artist')\n",
        "    uri = search_results['artists']['items'][0].get('uri')\n",
        "    artists = spotify_client.artist_related_artists(uri)\n",
        "    return artists\n",
        "\n",
        "\n",
        "\n",
        "Q: Tell me what songs by The Promise Ring sound like\n",
        "\n",
        "# solution in Python:\n",
        "\n",
        "\n",
        "def solution():\n",
        "    \"\"\"Tell me what songs by The Promise Ring sound like?\"\"\"\n",
        "    search_results = spotify_client.search(q='The Promise Ring', type='artist')\n",
        "    uri = search_results['artists']['items'][0].get('uri')\n",
        "    tracks = spotify_client.artist_top_tracks(uri)\n",
        "    track_uris = [track.get('uri') for track in tracks['tracks']]\n",
        "    audio_details = spotify_client.audio_features(track_uris)\n",
        "    return audio_details\n",
        "\n",
        "\n",
        "\n",
        "Q: Get me the URI for the album The Colour And The Shape\n",
        "\n",
        "# solution in Python:\n",
        "\n",
        "\n",
        "def solution():\n",
        "    \"\"\"Get me the URI for the album The Colour And The Shape\"\"\"\n",
        "    search_results = spotify_client.search(q='The Colour And The Shape', type='album')\n",
        "    uri = search_results['albums']['items'][0].get('uri')\n",
        "    return uri\n",
        "\n",
        "\n",
        "\n",
        "Q: What are the first three songs on Diet Cig's Over Easy?\n",
        "\n",
        "# solution in Python:\n",
        "\n",
        "\n",
        "def solution():\n",
        "    \"\"\"What are the first three songs on Diet Cig's Over Easy?\"\"\"\n",
        "    # Get the URI for the album\n",
        "    search_results = spotify_client.search(q='Diet Cig Over Easy', type='album')\n",
        "    album = search_results['albums']['items'][0]\n",
        "    album_uri = album['uri']\n",
        "\n",
        "    # Get the album tracks\n",
        "    album_tracks = spotify_client.album_tracks(album_uri)['items']\n",
        "    # Sort the tracks by duration\n",
        "    first_three = album_tracks[:3]\n",
        "    tracks = []\n",
        "\n",
        "    # Only include relevant fields\n",
        "    for i, track in enumerate(first_three):\n",
        "        # track['album'] does NOT work with spotify_client.album_tracks\n",
        "        # you need to use album['name'] instead\n",
        "        tracks.append({{\n",
        "            'position': i+1,\n",
        "            'song_name': track.get('name'),\n",
        "            'song_uri': track['artists'][0].get('uri'),\n",
        "            'artist_uri': track['artists'][0].get('uri'),\n",
        "            'album_uri': album.get('uri'),\n",
        "            'album_name': album.get('name')\n",
        "        }})\n",
        "\n",
        "    return tracks\n",
        "\n",
        "\n",
        "Q: What are the thirty most danceable songs by Metallica?\n",
        "\n",
        "# solution in Python:\n",
        "\n",
        "\n",
        "def solution():\n",
        "    \"\"\"What are most danceable songs by Metallica?\"\"\"\n",
        "    search_results = spotify_client.search(q='Metallica', type='artist')\n",
        "    uri = search_results['artists']['items'][0]['uri']\n",
        "    \n",
        "    albums = spotify_client.artist_albums(uri, album_type='album')\n",
        "    album_uris = [album['uri'] for album in albums['items']]\n",
        "\n",
        "    tracks = []\n",
        "    for album_uri in album_uris:\n",
        "        album_tracks = spotify_client.album_tracks(album_uri)\n",
        "        tracks.extend(album_tracks['items'])\n",
        "    track_uris = [track['uri'] for track in tracks]\n",
        "    \n",
        "    danceable_tracks = []\n",
        "    # You can only have 100 at a time\n",
        "    for i in range(0, len(track_uris), 100):\n",
        "        subset_track_uris = track_uris[i:i+100]\n",
        "        audio_details = spotify_client.audio_features(subset_track_uris)\n",
        "        for j, details in enumerate(audio_details):\n",
        "            if details['danceability'] > 0.7:\n",
        "                track = tracks[i+j]\n",
        "                danceable_tracks.append({{\n",
        "                    'song': track.get('name')\n",
        "                    'album': track.get('album').get('name')\n",
        "                    'danceability': details.get('danceability'),\n",
        "                    'tempo': details.get('tempo'),\n",
        "                }})\n",
        "                # Be sure to add the audio details to the track\n",
        "                danceable_tracks.append(track)\n",
        "\n",
        "    return danceable_tracks\n",
        "\n",
        "\n",
        "\n",
        "Q: {question}. Return a list or dictionary, only including the fields necessary to answer the question, including relevant scores and the uris to the albums/songs/artists mentioned. Only return the data – if the prompt asks for a format such as markdown or a simple string, ignore it: you are only meant to provide the information, not the formatting. A later step in the process will convert the data into the new format (table, sentence, etc).\n",
        "\n",
        "# solution in Python:\n",
        "'''.strip()\n",
        "    + \"\\n\\n\\n\"\n",
        ")\n",
        "\n",
        "SPOTIPY_PROMPT = PromptTemplate(input_variables=[\"question\"], template=SPOTIPY_PROMPT_TEMPLATE)"
      ]
    },
    {
      "cell_type": "markdown",
      "id": "9234ddb1",
      "metadata": {},
      "source": [
        "## Creating our PALChain\n",
        "\n",
        "We pass our logged-in Spotipy instance to the PALChain and make a somewhat-complex `get_answer_expr` to be returned appropriate JSON."
      ]
    },
    {
      "cell_type": "code",
      "execution_count": null,
      "id": "24a37806",
      "metadata": {},
      "outputs": [],
      "source": [
        "spotify_chain = PALChain(\n",
        "    llm=chat,\n",
        "    prompt=SPOTIPY_PROMPT,\n",
        "    python_globals={\n",
        "        'spotify_client': spotify_client\n",
        "    },\n",
        "    stop='\\n\\n\\n',\n",
        "    verbose=True,\n",
        "    return_intermediate_steps=True,\n",
        "    get_answer_expr=\"import json; print(json.dumps(solution()))\",\n",
        ")"
      ]
    },
    {
      "cell_type": "markdown",
      "id": "5dabeb9b",
      "metadata": {},
      "source": [
        "# LLMChain for cleanup\n",
        "\n",
        "The PALChain gives us JSON, this turns it into words.\n",
        "\n",
        "## The prompt"
      ]
    },
    {
      "cell_type": "code",
      "execution_count": null,
      "id": "d1d9eb01",
      "metadata": {},
      "outputs": [],
      "source": [
        "RESPONSE_CLEANUP_PROMPT_TEMPLATE = (\"\"\" \n",
        "Using this code:\n",
        "\n",
        "```python\n",
        "{intermediate_steps}\n",
        "```\n",
        "\n",
        "We got the following output from the Spotify API:\n",
        "\n",
        "```json\n",
        "{result}\n",
        "```\n",
        "\n",
        "Using the output above as your data source, answer the question {question}. Don't describe the code or process, just answer the question.\n",
        "Answer:\"\"\"\n",
        ")\n",
        "\n",
        "RESPONSE_CLEANUP_PROMPT = PromptTemplate(\n",
        "    input_variables=[\"intermediate_steps\", \"result\", \"question\"],\n",
        "    template=RESPONSE_CLEANUP_PROMPT_TEMPLATE,\n",
        ")"
      ]
    },
    {
      "cell_type": "markdown",
      "id": "225e3aac",
      "metadata": {},
      "source": [
        "## Creating the LLMChain"
      ]
    },
    {
      "cell_type": "code",
      "execution_count": null,
      "id": "fd271ee0",
      "metadata": {},
      "outputs": [],
      "source": [
        "explainer_chain = LLMChain(\n",
        "    llm=chat,\n",
        "    prompt=RESPONSE_CLEANUP_PROMPT,\n",
        "    verbose=True,\n",
        "    output_key='answer'\n",
        ")"
      ]
    },
    {
      "cell_type": "markdown",
      "id": "a40a0f9b",
      "metadata": {},
      "source": [
        "# Connecting the chains\n",
        "\n",
        "Now we'll plug the two chains together to get our full process."
      ]
    },
    {
      "cell_type": "code",
      "execution_count": null,
      "id": "e02a7353",
      "metadata": {},
      "outputs": [],
      "source": [
        "overall_chain = SequentialChain(\n",
        "    chains=[spotify_chain, explainer_chain],\n",
        "    input_variables=['question'],\n",
        "    verbose=True\n",
        ")"
      ]
    },
    {
      "cell_type": "markdown",
      "id": "ccf26971",
      "metadata": {},
      "source": [
        "# Using the chains\n",
        "\n",
        "Here we go!"
      ]
    },
    {
      "cell_type": "code",
      "execution_count": null,
      "id": "1d6c958e",
      "metadata": {},
      "outputs": [],
      "source": [
        "overall_response = overall_chain.run(\"List the 3 most downbeat songs from The Prodigy's Experience\")"
      ]
    },
    {
      "cell_type": "code",
      "execution_count": null,
      "id": "c6e5e1a0",
      "metadata": {},
      "outputs": [],
      "source": [
        "# Does low valance mean downbeat? According to GPT!\n",
        "print(overall_response)"
      ]
    }
  ],
  "metadata": {
    "kernelspec": {
      "display_name": "Python 3",
      "language": "python",
      "name": "python3"
    },
    "language_info": {
      "codemirror_mode": {
        "name": "ipython",
        "version": 3
      },
      "file_extension": ".py",
      "mimetype": "text/x-python",
      "name": "python",
      "nbconvert_exporter": "python",
      "pygments_lexer": "ipython3",
      "version": "3.9.6"
    },
    "vscode": {
      "interpreter": {
        "hash": "31f2aee4e71d21fbe5cf8b01ff0e069b9275f58929596ceb00d14d90e3e16cd6"
      }
    }
  },
  "nbformat": 4,
  "nbformat_minor": 5
}
